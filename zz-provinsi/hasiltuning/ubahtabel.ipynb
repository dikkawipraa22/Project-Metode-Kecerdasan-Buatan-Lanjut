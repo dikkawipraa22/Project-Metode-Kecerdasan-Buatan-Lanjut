{
 "cells": [
  {
   "cell_type": "code",
   "execution_count": 3,
   "metadata": {},
   "outputs": [
    {
     "name": "stdout",
     "output_type": "stream",
     "text": [
      "Tabel baru telah disimpan ke 'hasil_tabel.csv'\n"
     ]
    }
   ],
   "source": [
    "import pandas as pd\n",
    "\n",
    "data = pd.read_csv(\"hasiltuning.csv\")\n",
    "\n",
    "# Pivot tabel untuk mengatur MSE berdasarkan aktivasi\n",
    "pivot_table = data.pivot_table(\n",
    "    index=[\"hidden_layer\", \"hidden_neuron\", \"lr\", \"epoch\"],\n",
    "    columns=\"aktivasi\",\n",
    "    values=\"mse\",\n",
    "    aggfunc=\"first\"\n",
    ").reset_index()\n",
    "\n",
    "# Ubah nama kolom hasil pivot untuk format yang diinginkan\n",
    "pivot_table.rename(columns={\"relu\": \"mse_relu\", \"sigmoid\": \"mse_sigmoid\", \"tanh\": \"mse_tanh\"}, inplace=True)\n",
    "\n",
    "# Simpan hasil ke file CSV baru\n",
    "pivot_table.to_csv(\"hasil_tabel.csv\", index=False)\n",
    "\n",
    "print(\"Tabel baru telah disimpan ke 'hasil_tabel.csv'\")\n"
   ]
  },
  {
   "cell_type": "code",
   "execution_count": 2,
   "metadata": {},
   "outputs": [
    {
     "name": "stdout",
     "output_type": "stream",
     "text": [
      "Tabel baru telah disimpan ke 'hasil_tabel.xlsx'\n"
     ]
    }
   ],
   "source": [
    "import pandas as pd\n",
    "\n",
    "# Baca data dari CSV\n",
    "data = pd.read_csv(\"hasiltuning.csv\")\n",
    "\n",
    "# Pivot tabel untuk mengatur MSE berdasarkan aktivasi\n",
    "pivot_table = data.pivot_table(\n",
    "    index=[\"hidden_layer\", \"hidden_neuron\", \"lr\", \"epoch\"],\n",
    "    columns=\"aktivasi\",\n",
    "    values=\"mse\",\n",
    "    aggfunc=\"first\"\n",
    ").reset_index()\n",
    "\n",
    "# Ubah nama kolom hasil pivot untuk format yang diinginkan\n",
    "pivot_table.rename(columns={\"relu\": \"mse_relu\", \"sigmoid\": \"mse_sigmoid\", \"tanh\": \"mse_tanh\"}, inplace=True)\n",
    "\n",
    "# Simpan hasil ke file Excel\n",
    "pivot_table.to_excel(\"hasil_tabel.xlsx\", index=False)\n",
    "\n",
    "print(\"Tabel baru telah disimpan ke 'hasil_tabel.xlsx'\")\n"
   ]
  }
 ],
 "metadata": {
  "kernelspec": {
   "display_name": "Python 3",
   "language": "python",
   "name": "python3"
  },
  "language_info": {
   "codemirror_mode": {
    "name": "ipython",
    "version": 3
   },
   "file_extension": ".py",
   "mimetype": "text/x-python",
   "name": "python",
   "nbconvert_exporter": "python",
   "pygments_lexer": "ipython3",
   "version": "3.12.6"
  }
 },
 "nbformat": 4,
 "nbformat_minor": 2
}
